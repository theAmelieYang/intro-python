{
 "cells": [
  {
   "cell_type": "markdown",
   "metadata": {},
   "source": [
    "### Condition\n",
    "* if \n",
    "```python\n",
    "if\n",
    "```"
   ]
  },
  {
   "cell_type": "markdown",
   "metadata": {},
   "source": [
    "* else\n",
    "```python\n",
    "if condition 1:\n",
    "    expression 1\n",
    "else condition 2:\n",
    "    expression 2\n",
    "```"
   ]
  },
  {
   "cell_type": "markdown",
   "metadata": {},
   "source": [
    "* elif\n",
    "```python\n",
    "if condition 1:\n",
    "    expression 1\n",
    "elif condition 2:\n",
    "    expression 2   \n",
    "else condition 3:\n",
    "    expression 3\n",
    "```"
   ]
  },
  {
   "cell_type": "code",
   "execution_count": 1,
   "metadata": {},
   "outputs": [
    {
     "name": "stdout",
     "output_type": "stream",
     "text": [
      "Please enter an integer: 42\n",
      "More\n"
     ]
    }
   ],
   "source": [
    "# What is the output?\n",
    "x = int(input(\"Please enter an integer: \"))\n",
    "if x < 0:\n",
    "    x = 0\n",
    "    print('Negative changed to zero')\n",
    "elif x == 0:\n",
    "    print('Zero')\n",
    "elif x == 1:\n",
    "    print('Single')\n",
    "else:\n",
    "    print('More')"
   ]
  },
  {
   "cell_type": "markdown",
   "metadata": {},
   "source": [
    "### Several conditions combined\n",
    "* if...and...\n",
    "```python\n",
    "if condition 1 and condition 2:\n",
    "```\n",
    "* if...or...\n",
    "```python\n",
    "if condition 1 or condition 2:\n",
    "```"
   ]
  },
  {
   "cell_type": "markdown",
   "metadata": {},
   "source": [
    "### Quiz\n",
    "* write a program to check height-weight-index\n",
    "* conditions\n",
    "\n",
    "| Color of Health| Index Range      |\n",
    "| :------------- |:-------------:   | \n",
    "| Green          | 18.5~24          |\n",
    "| Yellow         | 25~30            |\n",
    "| Orange         | 30~40            |\n",
    "| Red            | Otherwise        |"
   ]
  }
 ],
 "metadata": {
  "kernelspec": {
   "display_name": "Python 3",
   "language": "python",
   "name": "python3"
  },
  "language_info": {
   "codemirror_mode": {
    "name": "ipython",
    "version": 3
   },
   "file_extension": ".py",
   "mimetype": "text/x-python",
   "name": "python",
   "nbconvert_exporter": "python",
   "pygments_lexer": "ipython3",
   "version": "3.6.3"
  }
 },
 "nbformat": 4,
 "nbformat_minor": 2
}

{
 "cells": [
  {
   "cell_type": "code",
   "execution_count": null,
   "metadata": {
    "scrolled": true
   },
   "outputs": [],
   "source": [
    "count = 0\n",
    "while count < 10:\n",
    "    print('The count is:', count)\n",
    "    count += 1"
   ]
  },
  {
   "cell_type": "code",
   "execution_count": null,
   "metadata": {
    "scrolled": false
   },
   "outputs": [],
   "source": [
    "for i in range(10):\n",
    "    print(i)"
   ]
  },
  {
   "cell_type": "code",
   "execution_count": null,
   "metadata": {},
   "outputs": [],
   "source": [
    "sum = 0\n",
    "for i in range(10):\n",
    "    sum += i\n",
    "print(sum)"
   ]
  },
  {
   "cell_type": "code",
   "execution_count": null,
   "metadata": {},
   "outputs": [],
   "source": [
    "start = 10\n",
    "sum = 0\n",
    "for i in range(39):\n",
    "    start = start + 1\n",
    "    sum += start\n",
    "print(sum)"
   ]
  },
  {
   "cell_type": "code",
   "execution_count": null,
   "metadata": {},
   "outputs": [],
   "source": [
    "odd = -1\n",
    "sum = 0\n",
    "for i in range(25):\n",
    "    odd = odd + 2\n",
    "    sum += odd\n",
    "print(sum)"
   ]
  },
  {
   "cell_type": "code",
   "execution_count": null,
   "metadata": {},
   "outputs": [],
   "source": [
    "sum = 0\n",
    "for i in range(3):\n",
    "    sum += int(input('number?'))\n",
    "print(sum)"
   ]
  },
  {
   "cell_type": "code",
   "execution_count": null,
   "metadata": {
    "scrolled": false
   },
   "outputs": [],
   "source": [
    "sum = 0\n",
    "n = int(input('how many numbers?'))\n",
    "for i in range(n):\n",
    "    sum += int(input('number?'))\n",
    "print(sum)"
   ]
  },
  {
   "cell_type": "code",
   "execution_count": null,
   "metadata": {},
   "outputs": [],
   "source": [
    "a = 1\n",
    "while 1 == 1:\n",
    "    a += 1\n",
    "    print('never stop')\n",
    "print(a)"
   ]
  },
  {
   "cell_type": "code",
   "execution_count": null,
   "metadata": {
    "scrolled": true
   },
   "outputs": [],
   "source": [
    "def function(input):\n",
    "    return input * 2\n",
    "\n",
    "print(function(0))\n",
    "print(function(1))\n",
    "print(function(2))\n",
    "print(function(3))"
   ]
  },
  {
   "cell_type": "code",
   "execution_count": null,
   "metadata": {},
   "outputs": [],
   "source": [
    "def function(input):\n",
    "    if input % 2 == 1:\n",
    "        return input * 2\n",
    "    else:\n",
    "        return input\n",
    "    \n",
    "print(function(0))\n",
    "print(function(1))\n",
    "print(function(2))\n",
    "print(function(3))"
   ]
  },
  {
   "cell_type": "code",
   "execution_count": null,
   "metadata": {},
   "outputs": [],
   "source": [
    "def function(input1, input2):\n",
    "    return input1 + input2\n",
    "\n",
    "print(function(0,1))\n",
    "print(function(1,2))\n",
    "print(function(2,3))\n",
    "print(function(3,4))"
   ]
  },
  {
   "cell_type": "code",
   "execution_count": null,
   "metadata": {
    "scrolled": false
   },
   "outputs": [],
   "source": [
    "def function(input1, input2):\n",
    "    for i in range(input1):\n",
    "        input2 += 1\n",
    "    return input2\n",
    "\n",
    "print(function(10,0))\n",
    "print(function(9,1))\n",
    "print(function(8,2))\n",
    "print(function(7,3))"
   ]
  },
  {
   "cell_type": "code",
   "execution_count": null,
   "metadata": {
    "scrolled": true
   },
   "outputs": [],
   "source": [
    "def function(input):\n",
    "    if (input % 2 == 0):\n",
    "        return \"even\"\n",
    "    else:\n",
    "        return \"odd\"\n",
    "print(function(2))   \n",
    "print(function(1))"
   ]
  },
  {
   "cell_type": "code",
   "execution_count": null,
   "metadata": {
    "scrolled": true
   },
   "outputs": [],
   "source": [
    "def function(input):\n",
    "    sum = 0\n",
    "    for i in range(input):\n",
    "        sum += i\n",
    "    return sum\n",
    "print(function(100))\n",
    "print(function(1000))"
   ]
  }
 ],
 "metadata": {
  "kernelspec": {
   "display_name": "Python 3",
   "language": "python",
   "name": "python3"
  },
  "language_info": {
   "codemirror_mode": {
    "name": "ipython",
    "version": 3
   },
   "file_extension": ".py",
   "mimetype": "text/x-python",
   "name": "python",
   "nbconvert_exporter": "python",
   "pygments_lexer": "ipython3",
   "version": "3.6.3"
  }
 },
 "nbformat": 4,
 "nbformat_minor": 2
}
